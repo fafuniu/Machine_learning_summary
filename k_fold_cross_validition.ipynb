{
 "cells": [
  {
   "cell_type": "code",
   "execution_count": null,
   "metadata": {
    "collapsed": true
   },
   "outputs": [],
   "source": [
    "import pandas as pd\n",
    "\n",
    "data=pd.read_csv(\"Advertising.csv\")\n",
    "\n",
    "data.head()\n",
    "\n"
   ]
  },
  {
   "cell_type": "code",
   "execution_count": null,
   "metadata": {
    "collapsed": true
   },
   "outputs": [],
   "source": [
    "# stander scaler\n",
    "from sklearn.preprocessing import StandardScaler\n",
    " \n",
    "columns=data.columns\n",
    "result=StandardScaler().fit_transform(data)\n",
    "std_data=pd.DataFrame(result,columns=columns)\n",
    "\n",
    "std_data=std_data.drop(\"Unnamed: 0\",axis=1)\n",
    "\n",
    "std_data.head()\n",
    "\n",
    "from sklearn.model_selection import KFold\n",
    "kf = KFold(n_splits=3)\n",
    "print(kf.get_n_splits(std_data))\n",
    "print(kf) \n",
    "\n"
   ]
  },
  {
   "cell_type": "code",
   "execution_count": null,
   "metadata": {
    "collapsed": true
   },
   "outputs": [],
   "source": [
    "###split the x and y\n",
    "from sklearn import linear_model\n",
    "from sklearn.linear_model import Lasso,LarsCV\n",
    "from sklearn.metrics import mean_squared_error\n",
    "import numpy as np\n",
    "\n",
    "X=std_data.loc[:,std_data.columns!=\"Sales\"].as_matrix()\n",
    "y=std_data[\"Sales\"].as_matrix()\n",
    "\n",
    "C=[0.001,0.01,0.05,0.01,0.05,1]\n",
    "    \n",
    "for i in C:\n",
    "    accuracy=[]\n",
    "    for train_index, test_index in kf.split(X):\n",
    "\n",
    "        X_train, X_test = X[train_index], X[test_index]\n",
    "        y_train, y_test = y[train_index], y[test_index]\n",
    "\n",
    "\n",
    "        clf = linear_model.Lasso(alpha=i)\n",
    "        clf.fit(X_train,y_train)\n",
    "        y_pre=clf.predict(X_test)\n",
    "        mse=mean_squared_error(y_pre,y_test)\n",
    "        accuracy.append(mse)\n",
    "    print(np.mean(accuracy))\n",
    "        #print(clf.coef_)\n",
    "        #print(clf.intercept_)\n",
    "\n"
   ]
  },
  {
   "cell_type": "code",
   "execution_count": null,
   "metadata": {
    "collapsed": true
   },
   "outputs": [],
   "source": [
    "cv_clf=LarsCV()\n",
    "cv_clf.fit(X, y)\n",
    "\n",
    "y_pre=cv_clf.predict(X)\n",
    "\n",
    "mse=mean_squared_error(y_pre,y)\n",
    "print(mse)"
   ]
  }
 ],
 "metadata": {
  "kernelspec": {
   "display_name": "Python 3",
   "language": "python",
   "name": "python3"
  },
  "language_info": {
   "codemirror_mode": {
    "name": "ipython",
    "version": 3
   },
   "file_extension": ".py",
   "mimetype": "text/x-python",
   "name": "python",
   "nbconvert_exporter": "python",
   "pygments_lexer": "ipython3",
   "version": "3.6.3"
  }
 },
 "nbformat": 4,
 "nbformat_minor": 2
}
